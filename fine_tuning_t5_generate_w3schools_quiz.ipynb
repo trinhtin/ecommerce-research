{
  "nbformat": 4,
  "nbformat_minor": 0,
  "metadata": {
    "colab": {
      "provenance": [],
      "authorship_tag": "ABX9TyN9x7Mv+z8CH3ydX3n1BXWD",
      "include_colab_link": true
    },
    "kernelspec": {
      "name": "python3",
      "display_name": "Python 3"
    },
    "language_info": {
      "name": "python"
    }
  },
  "cells": [
    {
      "cell_type": "markdown",
      "metadata": {
        "id": "view-in-github",
        "colab_type": "text"
      },
      "source": [
        "<a href=\"https://colab.research.google.com/github/trinhtin/generative-ai-learning-resources/blob/main/fine_tuning_t5_generate_w3schools_quiz.ipynb\" target=\"_parent\"><img src=\"https://colab.research.google.com/assets/colab-badge.svg\" alt=\"Open In Colab\"/></a>"
      ]
    },
    {
      "cell_type": "code",
      "execution_count": null,
      "metadata": {
        "id": "Mfm1Fjedl2eH"
      },
      "outputs": [],
      "source": [
        "# Install necessary libraries\n",
        "!pip install transformers datasets\n",
        "\n",
        "# Step 1: Prepare the Dataset\n",
        "\n",
        "import pandas as pd\n",
        "\n",
        "# Sample dataset format\n",
        "data = [\n",
        "    {\n",
        "        \"context\": \"HTML stands for Hyper Text Markup Language. It is used to create web pages.\",\n",
        "        \"question\": \"What does HTML stand for?\",\n",
        "        \"answer\": \"Hyper Text Markup Language\"\n",
        "    },\n",
        "    {\n",
        "        \"context\": \"CSS stands for Cascading Style Sheets. It is used to style web pages.\",\n",
        "        \"question\": \"What does CSS stand for?\",\n",
        "        \"answer\": \"Cascading Style Sheets\"\n",
        "    }\n",
        "]\n",
        "\n",
        "df = pd.DataFrame(data)\n",
        "df.to_csv('web_programming_quiz.csv', index=False)"
      ]
    },
    {
      "cell_type": "code",
      "source": [
        "# Step 2: Load and Preprocess the Data\n",
        "\n",
        "from datasets import load_dataset\n",
        "\n",
        "dataset = load_dataset('csv', data_files='web_programming_quiz.csv')\n",
        "\n",
        "def preprocess_function(examples):\n",
        "    return {\n",
        "        'input_text': examples['context'],\n",
        "        'target_text': examples['question'] + \" [SEP] \" + examples['answer']\n",
        "    }\n",
        "\n",
        "dataset = dataset.map(preprocess_function, remove_columns=dataset['train'].column_names)"
      ],
      "metadata": {
        "id": "meRlkOAPl92t"
      },
      "execution_count": null,
      "outputs": []
    },
    {
      "cell_type": "code",
      "source": [
        "# Step 3: Fine-tune T5 Model\n",
        "\n",
        "from transformers import T5Tokenizer, T5ForConditionalGeneration, Trainer, TrainingArguments\n",
        "\n",
        "model_name = \"t5-small\"\n",
        "tokenizer = T5Tokenizer.from_pretrained(model_name)\n",
        "model = T5ForConditionalGeneration.from_pretrained(model_name)\n",
        "\n",
        "def tokenize_function(examples):\n",
        "    model_inputs = tokenizer(examples['input_text'], max_length=512, truncation=True)\n",
        "    labels = tokenizer(examples['target_text'], max_length=128, truncation=True)\n",
        "    model_inputs['labels'] = labels['input_ids']\n",
        "    return model_inputs\n",
        "\n",
        "tokenized_datasets = dataset.map(tokenize_function, batched=True)\n",
        "\n",
        "training_args = TrainingArguments(\n",
        "    output_dir='./results',\n",
        "    evaluation_strategy=\"epoch\",\n",
        "    learning_rate=2e-5,\n",
        "    per_device_train_batch_size=8,\n",
        "    per_device_eval_batch_size=8,\n",
        "    num_train_epochs=3,\n",
        "    weight_decay=0.01,\n",
        ")\n",
        "\n",
        "trainer = Trainer(\n",
        "    model=model,\n",
        "    args=training_args,\n",
        "    train_dataset=tokenized_datasets['train'],\n",
        "    eval_dataset=tokenized_datasets['train']\n",
        ")\n",
        "\n",
        "trainer.train()"
      ],
      "metadata": {
        "id": "GD7tnI-il95n"
      },
      "execution_count": null,
      "outputs": []
    },
    {
      "cell_type": "code",
      "source": [
        "# Step 4: Generate Quiz Questions\n",
        "\n",
        "def generate_quiz(context, max_length=128):\n",
        "    input_text = context\n",
        "    input_ids = tokenizer(input_text, return_tensors='pt').input_ids\n",
        "    outputs = model.generate(input_ids, max_length=max_length)\n",
        "    generated_text = tokenizer.decode(outputs[0], skip_special_tokens=True)\n",
        "    question, answer = generated_text.split(\" [SEP] \")\n",
        "    return question, answer\n",
        "\n",
        "# Example usage\n",
        "context = \"JavaScript is a programming language that can be run on the browser and server side.\"\n",
        "question, answer = generate_quiz(context)\n",
        "print(f\"Question: {question}\")\n",
        "print(f\"Answer: {answer}\")"
      ],
      "metadata": {
        "id": "gUPdC4rZl98s"
      },
      "execution_count": null,
      "outputs": []
    }
  ]
}